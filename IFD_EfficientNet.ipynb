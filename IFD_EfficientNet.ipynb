{
 "cells": [
  {
   "cell_type": "code",
   "execution_count": 2,
   "id": "94c337dd",
   "metadata": {},
   "outputs": [
    {
     "name": "stdout",
     "output_type": "stream",
     "text": [
      "WARNING:tensorflow:From C:\\Users\\sathy\\AppData\\Local\\Programs\\Python\\Python310\\lib\\site-packages\\keras\\src\\losses.py:2976: The name tf.losses.sparse_softmax_cross_entropy is deprecated. Please use tf.compat.v1.losses.sparse_softmax_cross_entropy instead.\n",
      "\n"
     ]
    }
   ],
   "source": [
    "import os\n",
    "import cv2\n",
    "import numpy as np\n",
    "from sklearn.model_selection import train_test_split\n",
    "import matplotlib.pyplot as plt\n",
    "import gc  # Import garbage collector module\n",
    "\n",
    "from tensorflow.keras.applications import EfficientNetB3  # Import EfficientNetB3\n",
    "from tensorflow.keras.layers import Dense, Flatten, Dropout, GlobalAveragePooling2D\n",
    "from tensorflow.keras.models import Model\n",
    "from tensorflow.keras.optimizers import Adam\n",
    "from tensorflow.keras.callbacks import Callback\n",
    "from tensorflow.keras.models import load_model\n",
    "from tensorflow.keras.utils import Sequence"
   ]
  },
  {
   "cell_type": "code",
   "execution_count": 3,
   "id": "8290e57c",
   "metadata": {},
   "outputs": [],
   "source": [
    "def calculate_difference_image(image1, image2):\n",
    "    return cv2.absdiff(image1, image2)"
   ]
  },
  {
   "cell_type": "code",
   "execution_count": 4,
   "id": "5ded02e4",
   "metadata": {},
   "outputs": [],
   "source": [
    "\n",
    "class ImageDataGenerator(Sequence):\n",
    "    def __init__(self, images, labels, batch_size):\n",
    "        self.images = images\n",
    "        self.labels = labels\n",
    "        self.batch_size = batch_size\n",
    "\n",
    "    def __len__(self):\n",
    "        return int(np.ceil(len(self.images) / float(self.batch_size)))\n",
    "\n",
    "    def __getitem__(self, idx):\n",
    "        batch_x = self.images[idx * self.batch_size:(idx + 1) * self.batch_size]\n",
    "        batch_y = self.labels[idx * self.batch_size:(idx + 1) * self.batch_size]\n",
    "        return np.array(batch_x), np.array(batch_y)"
   ]
  },
  {
   "cell_type": "code",
   "execution_count": 5,
   "id": "3680e6b2",
   "metadata": {},
   "outputs": [],
   "source": [
    "def load_images_and_difference(authentic_dir, tampered_dir):\n",
    "    images = []\n",
    "    labels = []\n",
    "\n",
    "    print(\"Loading authentic images...\")\n",
    "    for filename in os.listdir(authentic_dir):\n",
    "        if filename.lower().endswith(('.jpg', '.bmp')):\n",
    "            filepath = os.path.join(authentic_dir, filename)\n",
    "            img = cv2.imread(filepath, cv2.IMREAD_COLOR)\n",
    "            if img is not None:\n",
    "                img_resized = cv2.resize(img, (224, 224)).astype(np.float32) / 255.0\n",
    "                images.append(img_resized)\n",
    "                labels.append(0)\n",
    "\n",
    "    print(\"Loading tampered images and calculating differences...\")\n",
    "    for filename in os.listdir(tampered_dir):\n",
    "        if filename.lower().endswith(('.jpg', '.tif')):\n",
    "            tampered_img = cv2.imread(os.path.join(tampered_dir, filename), cv2.IMREAD_COLOR)\n",
    "            tampered_img_resized = cv2.resize(tampered_img, (224, 224)).astype(np.float32) / 255.0\n",
    "            \n",
    "            match_found = False\n",
    "            parts = filename.split(\"_\")\n",
    "            if len(parts) >= 7:\n",
    "                source_id = parts[4][:3] + \"_\" + parts[4][3:]\n",
    "                target_id = parts[5][:3] + \"_\" + parts[5][3:]\n",
    "                for id_ in [source_id, target_id]:\n",
    "                    for ext in ['.jpg', '.bmp']:\n",
    "                        auth_filename = f\"Au_{id_}{ext}\"\n",
    "                        auth_filepath = os.path.join(authentic_dir, auth_filename)\n",
    "                        if os.path.exists(auth_filepath):\n",
    "                            auth_img = cv2.imread(auth_filepath, cv2.IMREAD_COLOR)\n",
    "                            auth_img_resized = cv2.resize(auth_img, (224, 224)).astype(np.float32) / 255.0\n",
    "                            difference_img = calculate_difference_image(tampered_img_resized, auth_img_resized)\n",
    "                            images.append(difference_img)\n",
    "                            labels.append(1)\n",
    "                            match_found = True\n",
    "                            break\n",
    "            if not match_found:\n",
    "                print(f\"No authentic match found for {filename}, using tampered image directly.\")\n",
    "                images.append(tampered_img_resized)\n",
    "                labels.append(1)\n",
    "\n",
    "    return np.array(images), np.array(labels)"
   ]
  },
  {
   "cell_type": "code",
   "execution_count": 5,
   "id": "172e665a",
   "metadata": {},
   "outputs": [
    {
     "name": "stdout",
     "output_type": "stream",
     "text": [
      "Loading authentic images...\n",
      "Loading tampered images and calculating differences...\n",
      "No authentic match found for Tp_S_CNN_S_N_cha0003_cha00003_00323.tif, using tampered image directly.\n",
      "No authentic match found for Tp_S_NNN_M_N_pla0006_pla00006_01128.tif, using tampered image directly.\n"
     ]
    }
   ],
   "source": [
    "authentic_dir = 'D:\\SASTRA Files\\Sem-6\\MINI PROJECT\\Digital Image Forgery Detection\\CASIA2 Dataset\\Au'\n",
    "tampered_dir = 'D:\\SASTRA Files\\Sem-6\\MINI PROJECT\\Digital Image Forgery Detection\\CASIA2 Dataset\\Tp'\n",
    "\n",
    "images, labels = load_images_and_difference(authentic_dir, tampered_dir)"
   ]
  },
  {
   "cell_type": "code",
   "execution_count": 6,
   "id": "b8fb0d62",
   "metadata": {},
   "outputs": [
    {
     "name": "stdout",
     "output_type": "stream",
     "text": [
      "Train set size: 10091, Test set size: 2523\n"
     ]
    }
   ],
   "source": [
    "X_train, X_test, y_train, y_test = train_test_split(images, labels, test_size=0.2, random_state=42)\n",
    "print(f\"Train set size: {X_train.shape[0]}, Test set size: {X_test.shape[0]}\")"
   ]
  },
  {
   "cell_type": "code",
   "execution_count": 7,
   "id": "577214e6",
   "metadata": {},
   "outputs": [
    {
     "name": "stdout",
     "output_type": "stream",
     "text": [
      "WARNING:tensorflow:From C:\\Users\\sathy\\AppData\\Local\\Programs\\Python\\Python310\\lib\\site-packages\\keras\\src\\backend.py:1398: The name tf.executing_eagerly_outside_functions is deprecated. Please use tf.compat.v1.executing_eagerly_outside_functions instead.\n",
      "\n",
      "WARNING:tensorflow:From C:\\Users\\sathy\\AppData\\Local\\Programs\\Python\\Python310\\lib\\site-packages\\keras\\src\\layers\\normalization\\batch_normalization.py:979: The name tf.nn.fused_batch_norm is deprecated. Please use tf.compat.v1.nn.fused_batch_norm instead.\n",
      "\n",
      "Downloading data from https://storage.googleapis.com/keras-applications/efficientnetb3_notop.h5\n",
      "43941136/43941136 [==============================] - 121s 3us/step\n"
     ]
    }
   ],
   "source": [
    "base_model = EfficientNetB3(weights='imagenet', include_top=False, input_shape=(224, 224, 3))  # Use EfficientNetB0 here"
   ]
  },
  {
   "cell_type": "code",
   "execution_count": 8,
   "id": "a381971d",
   "metadata": {},
   "outputs": [],
   "source": [
    "for layer in base_model.layers:\n",
    "    layer.trainable = False"
   ]
  },
  {
   "cell_type": "code",
   "execution_count": 9,
   "id": "6ecef1b4",
   "metadata": {},
   "outputs": [],
   "source": [
    "x = GlobalAveragePooling2D()(base_model.output)\n",
    "x = Dense(512, activation='relu')(x)\n",
    "x = Dropout(0.5)(x)\n",
    "predictions = Dense(1, activation='sigmoid')(x)"
   ]
  },
  {
   "cell_type": "code",
   "execution_count": 10,
   "id": "39be423f",
   "metadata": {},
   "outputs": [
    {
     "name": "stderr",
     "output_type": "stream",
     "text": [
      "WARNING:absl:`lr` is deprecated in Keras optimizer, please use `learning_rate` or use the legacy optimizer, e.g.,tf.keras.optimizers.legacy.Adam.\n"
     ]
    }
   ],
   "source": [
    "model = Model(inputs=base_model.input, outputs=predictions)\n",
    "\n",
    "model.compile(optimizer=Adam(lr=0.0001), loss='binary_crossentropy', metrics=['accuracy'])"
   ]
  },
  {
   "cell_type": "code",
   "execution_count": 11,
   "id": "1150f85f",
   "metadata": {},
   "outputs": [],
   "source": [
    "class TrainingMonitor(Callback):\n",
    "    def on_epoch_begin(self, epoch, logs=None):\n",
    "        print(f\"Starting epoch {epoch+1}\")\n",
    "\n",
    "    def on_epoch_end(self, epoch, logs=None):\n",
    "        print(f\"Finished epoch {epoch+1}\")\n",
    "        print(f\"Loss: {logs['loss']}, Accuracy: {logs['accuracy']}, Val Loss: {logs['val_loss']}, Val Accuracy: {logs['val_accuracy']}\")"
   ]
  },
  {
   "cell_type": "code",
   "execution_count": 12,
   "id": "d79efbf4",
   "metadata": {},
   "outputs": [],
   "source": [
    "batch_size = 16\n",
    "train_generator = ImageDataGenerator(X_train, y_train, batch_size)\n",
    "test_generator = ImageDataGenerator(X_test, y_test, batch_size)"
   ]
  },
  {
   "cell_type": "code",
   "execution_count": 13,
   "id": "ed6eac4e",
   "metadata": {},
   "outputs": [
    {
     "name": "stdout",
     "output_type": "stream",
     "text": [
      "Starting epoch 1\n",
      "Epoch 1/10\n",
      "WARNING:tensorflow:From C:\\Users\\sathy\\AppData\\Local\\Programs\\Python\\Python310\\lib\\site-packages\\keras\\src\\utils\\tf_utils.py:492: The name tf.ragged.RaggedTensorValue is deprecated. Please use tf.compat.v1.ragged.RaggedTensorValue instead.\n",
      "\n"
     ]
    },
    {
     "name": "stderr",
     "output_type": "stream",
     "text": [
      "WARNING:tensorflow:From C:\\Users\\sathy\\AppData\\Local\\Programs\\Python\\Python310\\lib\\site-packages\\keras\\src\\utils\\tf_utils.py:492: The name tf.ragged.RaggedTensorValue is deprecated. Please use tf.compat.v1.ragged.RaggedTensorValue instead.\n",
      "\n"
     ]
    },
    {
     "name": "stdout",
     "output_type": "stream",
     "text": [
      "WARNING:tensorflow:From C:\\Users\\sathy\\AppData\\Local\\Programs\\Python\\Python310\\lib\\site-packages\\keras\\src\\engine\\base_layer_utils.py:384: The name tf.executing_eagerly_outside_functions is deprecated. Please use tf.compat.v1.executing_eagerly_outside_functions instead.\n",
      "\n"
     ]
    },
    {
     "name": "stderr",
     "output_type": "stream",
     "text": [
      "WARNING:tensorflow:From C:\\Users\\sathy\\AppData\\Local\\Programs\\Python\\Python310\\lib\\site-packages\\keras\\src\\engine\\base_layer_utils.py:384: The name tf.executing_eagerly_outside_functions is deprecated. Please use tf.compat.v1.executing_eagerly_outside_functions instead.\n",
      "\n"
     ]
    },
    {
     "name": "stdout",
     "output_type": "stream",
     "text": [
      "Finished epoch 1\n",
      "Loss: 0.42683446407318115, Accuracy: 0.8130016922950745, Val Loss: 0.30516916513442993, Val Accuracy: 0.8965517282485962\n",
      "631/631 - 560s - loss: 0.4268 - accuracy: 0.8130 - val_loss: 0.3052 - val_accuracy: 0.8966 - 560s/epoch - 888ms/step\n",
      "Starting epoch 2\n",
      "Epoch 2/10\n",
      "Finished epoch 2\n",
      "Loss: 0.39181169867515564, Accuracy: 0.8451095223426819, Val Loss: 0.33440345525741577, Val Accuracy: 0.8581054210662842\n",
      "631/631 - 477s - loss: 0.3918 - accuracy: 0.8451 - val_loss: 0.3344 - val_accuracy: 0.8581 - 477s/epoch - 757ms/step\n",
      "Starting epoch 3\n",
      "Epoch 3/10\n",
      "Finished epoch 3\n",
      "Loss: 0.3911387622356415, Accuracy: 0.850361704826355, Val Loss: 0.322979211807251, Val Accuracy: 0.8699960112571716\n",
      "631/631 - 435s - loss: 0.3911 - accuracy: 0.8504 - val_loss: 0.3230 - val_accuracy: 0.8700 - 435s/epoch - 689ms/step\n",
      "Starting epoch 4\n",
      "Epoch 4/10\n",
      "Finished epoch 4\n",
      "Loss: 0.3909948468208313, Accuracy: 0.8530373573303223, Val Loss: 0.297611802816391, Val Accuracy: 0.9056678414344788\n",
      "631/631 - 380s - loss: 0.3910 - accuracy: 0.8530 - val_loss: 0.2976 - val_accuracy: 0.9057 - 380s/epoch - 603ms/step\n",
      "Starting epoch 5\n",
      "Epoch 5/10\n",
      "Finished epoch 5\n",
      "Loss: 0.3863539397716522, Accuracy: 0.8511545062065125, Val Loss: 0.2995816171169281, Val Accuracy: 0.883868396282196\n",
      "631/631 - 376s - loss: 0.3864 - accuracy: 0.8512 - val_loss: 0.2996 - val_accuracy: 0.8839 - 376s/epoch - 596ms/step\n",
      "Starting epoch 6\n",
      "Epoch 6/10\n",
      "Finished epoch 6\n",
      "Loss: 0.38313156366348267, Accuracy: 0.8555148243904114, Val Loss: 0.32729125022888184, Val Accuracy: 0.8585017919540405\n",
      "631/631 - 358s - loss: 0.3831 - accuracy: 0.8555 - val_loss: 0.3273 - val_accuracy: 0.8585 - 358s/epoch - 567ms/step\n",
      "Starting epoch 7\n",
      "Epoch 7/10\n",
      "Finished epoch 7\n",
      "Loss: 0.3854203224182129, Accuracy: 0.8542265295982361, Val Loss: 0.28335702419281006, Val Accuracy: 0.8993262052536011\n",
      "631/631 - 358s - loss: 0.3854 - accuracy: 0.8542 - val_loss: 0.2834 - val_accuracy: 0.8993 - 358s/epoch - 567ms/step\n",
      "Starting epoch 8\n",
      "Epoch 8/10\n",
      "Finished epoch 8\n",
      "Loss: 0.3855631351470947, Accuracy: 0.8612625002861023, Val Loss: 0.333543986082077, Val Accuracy: 0.8537455201148987\n",
      "631/631 - 368s - loss: 0.3856 - accuracy: 0.8613 - val_loss: 0.3335 - val_accuracy: 0.8537 - 368s/epoch - 583ms/step\n",
      "Starting epoch 9\n",
      "Epoch 9/10\n",
      "Finished epoch 9\n",
      "Loss: 0.38623902201652527, Accuracy: 0.8562085032463074, Val Loss: 0.30653178691864014, Val Accuracy: 0.8799048662185669\n",
      "631/631 - 374s - loss: 0.3862 - accuracy: 0.8562 - val_loss: 0.3065 - val_accuracy: 0.8799 - 374s/epoch - 592ms/step\n",
      "Starting epoch 10\n",
      "Epoch 10/10\n",
      "Finished epoch 10\n",
      "Loss: 0.37346193194389343, Accuracy: 0.8634426593780518, Val Loss: 0.2900563180446625, Val Accuracy: 0.8989298343658447\n",
      "631/631 - 366s - loss: 0.3735 - accuracy: 0.8634 - val_loss: 0.2901 - val_accuracy: 0.8989 - 366s/epoch - 580ms/step\n"
     ]
    }
   ],
   "source": [
    "history = model.fit(\n",
    "    train_generator,\n",
    "    epochs=10,\n",
    "    validation_data=test_generator,\n",
    "    callbacks=[TrainingMonitor()],\n",
    "    verbose=2)"
   ]
  },
  {
   "cell_type": "code",
   "execution_count": 19,
   "id": "4a3f3eed",
   "metadata": {},
   "outputs": [
    {
     "name": "stdout",
     "output_type": "stream",
     "text": [
      "158/158 [==============================] - 64s 405ms/step - loss: 0.2901 - accuracy: 0.8989\n",
      "Final test loss: 0.2900563180446625, Final test accuracy: 0.8989298343658447\n"
     ]
    }
   ],
   "source": [
    "final_loss, final_accuracy = model.evaluate(test_generator)\n",
    "print(f\"Final test loss: {final_loss}, Final test accuracy: {final_accuracy}\")"
   ]
  },
  {
   "cell_type": "code",
   "execution_count": 20,
   "id": "8c4d3ed2",
   "metadata": {},
   "outputs": [
    {
     "name": "stdout",
     "output_type": "stream",
     "text": [
      "Saved model to disk.\n"
     ]
    }
   ],
   "source": [
    "# Save the entire model\n",
    "model.save('EfficientNetB3_BC.h5')\n",
    "print(\"Saved model to disk.\")"
   ]
  },
  {
   "cell_type": "code",
   "execution_count": 6,
   "id": "286a5625",
   "metadata": {},
   "outputs": [
    {
     "name": "stdout",
     "output_type": "stream",
     "text": [
      "WARNING:tensorflow:From C:\\Users\\sathy\\AppData\\Local\\Programs\\Python\\Python310\\lib\\site-packages\\keras\\src\\backend.py:1398: The name tf.executing_eagerly_outside_functions is deprecated. Please use tf.compat.v1.executing_eagerly_outside_functions instead.\n",
      "\n",
      "WARNING:tensorflow:From C:\\Users\\sathy\\AppData\\Local\\Programs\\Python\\Python310\\lib\\site-packages\\keras\\src\\layers\\normalization\\batch_normalization.py:979: The name tf.nn.fused_batch_norm is deprecated. Please use tf.compat.v1.nn.fused_batch_norm instead.\n",
      "\n",
      "1/1 [==============================] - 3s 3s/step\n",
      "Prediction (0 for Authentic, 1 for Tampered): [0.34223068]\n",
      "The image is likely tampered.\n"
     ]
    }
   ],
   "source": [
    "def prepare_single_image(test_image_path, reference_image_path):\n",
    "    test_img = cv2.imread(test_image_path, cv2.IMREAD_COLOR)\n",
    "    test_img_resized = cv2.resize(test_img, (224, 224)).astype(np.float32) / 255.0\n",
    "\n",
    "    reference_img = cv2.imread(reference_image_path, cv2.IMREAD_COLOR)\n",
    "    reference_img_resized = cv2.resize(reference_img, (224, 224)).astype(np.float32) / 255.0\n",
    "\n",
    "    difference_img = calculate_difference_image(test_img_resized, reference_img_resized)\n",
    "    difference_img = np.expand_dims(difference_img, axis=0)\n",
    "    return difference_img\n",
    "\n",
    "# Load the saved model\n",
    "loaded_model = load_model('EfficientNetB3_BC.h5')\n",
    "\n",
    "test_image_path = 'D:\\SASTRA Files\\Sem-6\\MINI PROJECT\\Digital Image Forgery Detection\\CASIA2 Dataset\\Au\\Au_ani_00001.jpg'\n",
    "reference_image_path = 'D:\\SASTRA Files\\Sem-6\\MINI PROJECT\\Digital Image Forgery Detection\\CASIA2 Dataset\\Tp\\Tp_D_CRN_S_B_nat10153_ani00001_12136.jpg'\n",
    "\n",
    "difference_image = prepare_single_image(test_image_path, reference_image_path)\n",
    "prediction = loaded_model.predict(difference_image)\n",
    "\n",
    "print(f\"Prediction (0 for Authentic, 1 for Tampered): {prediction[0]}\")\n",
    "if prediction[0] < 0.5:\n",
    "    print(\"The image is likely tampered.\")\n",
    "else:\n",
    "    print(\"The image is likely authentic.\")"
   ]
  },
  {
   "cell_type": "code",
   "execution_count": 13,
   "id": "d31eb8c6",
   "metadata": {},
   "outputs": [
    {
     "name": "stdout",
     "output_type": "stream",
     "text": [
      "1/1 [==============================] - 6s 6s/step\n",
      "Prediction (0 for Authentic, 1 for Tampered): [0.02129186]\n",
      "The image is likely tampered.\n"
     ]
    }
   ],
   "source": [
    "# Load the saved model\n",
    "loaded_model = load_model('EfficientNetB3_BC.h5')\n",
    "\n",
    "test_image_path = 'D:\\SASTRA Files\\Sem-6\\MINI PROJECT\\Digital Image Forgery Detection\\CASIA2 Dataset\\Au\\Au_pla_00050.jpg'\n",
    "reference_image_path = 'D:\\SASTRA Files\\Sem-6\\MINI PROJECT\\Digital Image Forgery Detection\\CASIA2 Dataset\\Tp\\Tp_D_NRN_S_N_ind00009_pla00050_10423.tif'\n",
    "\n",
    "difference_image = prepare_single_image(test_image_path, reference_image_path)\n",
    "prediction = loaded_model.predict(difference_image)\n",
    "\n",
    "print(f\"Prediction (0 for Authentic, 1 for Tampered): {prediction[0]}\")\n",
    "if prediction[0] < 0.5:\n",
    "    print(\"The image is likely tampered.\")\n",
    "else:\n",
    "    print(\"The image is likely authentic.\")"
   ]
  },
  {
   "cell_type": "code",
   "execution_count": 14,
   "id": "1fa1904d",
   "metadata": {},
   "outputs": [
    {
     "name": "stdout",
     "output_type": "stream",
     "text": [
      "1/1 [==============================] - 7s 7s/step\n",
      "Prediction (0 for Authentic, 1 for Tampered): [0.8264529]\n",
      "The image is likely authentic.\n"
     ]
    }
   ],
   "source": [
    "# Load the saved model\n",
    "loaded_model = load_model('EfficientNetB3_BC.h5')\n",
    "\n",
    "test_image_path = 'D:\\SASTRA Files\\Sem-6\\MINI PROJECT\\Digital Image Forgery Detection\\CASIA2 Dataset\\Au\\Au_nat_00003.jpg'\n",
    "reference_image_path = 'D:\\SASTRA Files\\Sem-6\\MINI PROJECT\\Digital Image Forgery Detection\\CASIA2 Dataset\\Au\\Au_nat_00003.jpg'\n",
    "\n",
    "difference_image = prepare_single_image(test_image_path, reference_image_path)\n",
    "prediction = loaded_model.predict(difference_image)\n",
    "\n",
    "print(f\"Prediction (0 for Authentic, 1 for Tampered): {prediction[0]}\")\n",
    "if prediction[0] < 0.5:\n",
    "    print(\"The image is likely tampered.\")\n",
    "else:\n",
    "    print(\"The image is likely authentic.\")"
   ]
  },
  {
   "cell_type": "code",
   "execution_count": 15,
   "id": "be9b6abc",
   "metadata": {},
   "outputs": [
    {
     "name": "stdout",
     "output_type": "stream",
     "text": [
      "1/1 [==============================] - 6s 6s/step\n",
      "Prediction (0 for Authentic, 1 for Tampered): [0.00537661]\n",
      "The image is likely tampered.\n"
     ]
    }
   ],
   "source": [
    "# Load the saved model\n",
    "loaded_model = load_model('EfficientNetB3_BC.h5')\n",
    "\n",
    "test_image_path = 'D:\\SASTRA Files\\Sem-6\\MINI PROJECT\\Digital Image Forgery Detection\\CASIA2 Dataset\\Au\\Au_txt_00065.jpg'\n",
    "reference_image_path = 'D:\\SASTRA Files\\Sem-6\\MINI PROJECT\\Digital Image Forgery Detection\\CASIA2 Dataset\\Tp\\Tp_D_NND_M_B_sec00077_txt00065_10388.tif'\n",
    "\n",
    "difference_image = prepare_single_image(test_image_path, reference_image_path)\n",
    "prediction = loaded_model.predict(difference_image)\n",
    "\n",
    "print(f\"Prediction (0 for Authentic, 1 for Tampered): {prediction[0]}\")\n",
    "if prediction[0] < 0.5:\n",
    "    print(\"The image is likely tampered.\")\n",
    "else:\n",
    "    print(\"The image is likely authentic.\")"
   ]
  },
  {
   "cell_type": "code",
   "execution_count": 16,
   "id": "d2500cd7",
   "metadata": {},
   "outputs": [
    {
     "name": "stdout",
     "output_type": "stream",
     "text": [
      "1/1 [==============================] - 6s 6s/step\n",
      "Prediction (0 for Authentic, 1 for Tampered): [0.15594395]\n",
      "The image is likely tampered.\n"
     ]
    }
   ],
   "source": [
    "# Load the saved model\n",
    "loaded_model = load_model('EfficientNetB3_BC.h5')\n",
    "\n",
    "test_image_path = 'D:\\SASTRA Files\\Sem-6\\MINI PROJECT\\Digital Image Forgery Detection\\CASIA2 Dataset\\Au\\Au_nat_10124.jpg'\n",
    "reference_image_path = 'D:\\SASTRA Files\\Sem-6\\MINI PROJECT\\Digital Image Forgery Detection\\CASIA2 Dataset\\Tp\\Tp_D_NRN_M_N_cha10123_nat10124_12192.jpg'\n",
    "\n",
    "difference_image = prepare_single_image(test_image_path, reference_image_path)\n",
    "prediction = loaded_model.predict(difference_image)\n",
    "\n",
    "print(f\"Prediction (0 for Authentic, 1 for Tampered): {prediction[0]}\")\n",
    "if prediction[0] < 0.5:\n",
    "    print(\"The image is likely tampered.\")\n",
    "else:\n",
    "    print(\"The image is likely authentic.\")"
   ]
  },
  {
   "cell_type": "code",
   "execution_count": 17,
   "id": "2db7a712",
   "metadata": {},
   "outputs": [
    {
     "name": "stdout",
     "output_type": "stream",
     "text": [
      "1/1 [==============================] - 6s 6s/step\n",
      "Prediction (0 for Authentic, 1 for Tampered): [0.20437609]\n",
      "The image is likely tampered.\n"
     ]
    }
   ],
   "source": [
    "# Load the saved model\n",
    "loaded_model = load_model('EfficientNetB3_BC.h5')\n",
    "\n",
    "test_image_path = 'D:\\SASTRA Files\\Sem-6\\MINI PROJECT\\Digital Image Forgery Detection\\CASIA2 Dataset\\Au\\Au_ani_00032.jpg'\n",
    "reference_image_path = 'D:\\SASTRA Files\\Sem-6\\MINI PROJECT\\Digital Image Forgery Detection\\CASIA2 Dataset\\Tp\\Tp_D_NRN_S_N_ani00033_ani00032_10233.tif'\n",
    "\n",
    "difference_image = prepare_single_image(test_image_path, reference_image_path)\n",
    "prediction = loaded_model.predict(difference_image)\n",
    "\n",
    "print(f\"Prediction (0 for Authentic, 1 for Tampered): {prediction[0]}\")\n",
    "if prediction[0] < 0.5:\n",
    "    print(\"The image is likely tampered.\")\n",
    "else:\n",
    "    print(\"The image is likely authentic.\")"
   ]
  },
  {
   "cell_type": "code",
   "execution_count": 18,
   "id": "931a23c0",
   "metadata": {},
   "outputs": [
    {
     "name": "stdout",
     "output_type": "stream",
     "text": [
      "1/1 [==============================] - 6s 6s/step\n",
      "Prediction (0 for Authentic, 1 for Tampered): [0.8264529]\n",
      "The image is likely authentic.\n"
     ]
    }
   ],
   "source": [
    "# Load the saved model\n",
    "loaded_model = load_model('EfficientNetB3_BC.h5')\n",
    "\n",
    "test_image_path = 'D:\\SASTRA Files\\Sem-6\\MINI PROJECT\\Digital Image Forgery Detection\\CASIA2 Dataset\\Au\\Au_ani_00070.jpg'\n",
    "reference_image_path = 'D:\\SASTRA Files\\Sem-6\\MINI PROJECT\\Digital Image Forgery Detection\\CASIA2 Dataset\\Au\\Au_ani_00070.jpg'\n",
    "\n",
    "difference_image = prepare_single_image(test_image_path, reference_image_path)\n",
    "prediction = loaded_model.predict(difference_image)\n",
    "\n",
    "print(f\"Prediction (0 for Authentic, 1 for Tampered): {prediction[0]}\")\n",
    "if prediction[0] < 0.5:\n",
    "    print(\"The image is likely tampered.\")\n",
    "else:\n",
    "    print(\"The image is likely authentic.\")"
   ]
  },
  {
   "cell_type": "code",
   "execution_count": null,
   "id": "0c0408e0",
   "metadata": {},
   "outputs": [],
   "source": []
  }
 ],
 "metadata": {
  "kernelspec": {
   "display_name": "Python 3 (ipykernel)",
   "language": "python",
   "name": "python3"
  },
  "language_info": {
   "codemirror_mode": {
    "name": "ipython",
    "version": 3
   },
   "file_extension": ".py",
   "mimetype": "text/x-python",
   "name": "python",
   "nbconvert_exporter": "python",
   "pygments_lexer": "ipython3",
   "version": "3.7.8"
  }
 },
 "nbformat": 4,
 "nbformat_minor": 5
}
